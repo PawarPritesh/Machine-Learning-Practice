{
 "cells": [
  {
   "cell_type": "markdown",
   "id": "429339b4",
   "metadata": {},
   "source": [
    "# Linear Regression Topic"
   ]
  },
  {
   "cell_type": "code",
   "execution_count": 1,
   "id": "8de52d3e",
   "metadata": {},
   "outputs": [],
   "source": [
    "import pandas as pd\n",
    "import numpy as np\n",
    "import matplotlib.pyplot as plt"
   ]
  },
  {
   "cell_type": "code",
   "execution_count": 2,
   "id": "d4dd8adf",
   "metadata": {},
   "outputs": [
    {
     "data": {
      "text/html": [
       "<div>\n",
       "<style scoped>\n",
       "    .dataframe tbody tr th:only-of-type {\n",
       "        vertical-align: middle;\n",
       "    }\n",
       "\n",
       "    .dataframe tbody tr th {\n",
       "        vertical-align: top;\n",
       "    }\n",
       "\n",
       "    .dataframe thead th {\n",
       "        text-align: right;\n",
       "    }\n",
       "</style>\n",
       "<table border=\"1\" class=\"dataframe\">\n",
       "  <thead>\n",
       "    <tr style=\"text-align: right;\">\n",
       "      <th></th>\n",
       "      <th>Sale_Price</th>\n",
       "      <th>No of Bedrooms</th>\n",
       "      <th>No of Bathrooms</th>\n",
       "      <th>Flat Area (in Sqft)</th>\n",
       "      <th>Lot Area (in Sqft)</th>\n",
       "      <th>No of Floors</th>\n",
       "      <th>No of Times Visited</th>\n",
       "      <th>Overall Grade</th>\n",
       "      <th>Area of the House from Basement (in Sqft)</th>\n",
       "      <th>Basement Area (in Sqft)</th>\n",
       "      <th>...</th>\n",
       "      <th>Waterfront_View_Yes</th>\n",
       "      <th>Zipcode_Group_Zipcode_Group_1</th>\n",
       "      <th>Zipcode_Group_Zipcode_Group_2</th>\n",
       "      <th>Zipcode_Group_Zipcode_Group_3</th>\n",
       "      <th>Zipcode_Group_Zipcode_Group_4</th>\n",
       "      <th>Zipcode_Group_Zipcode_Group_5</th>\n",
       "      <th>Zipcode_Group_Zipcode_Group_6</th>\n",
       "      <th>Zipcode_Group_Zipcode_Group_7</th>\n",
       "      <th>Zipcode_Group_Zipcode_Group_8</th>\n",
       "      <th>Zipcode_Group_Zipcode_Group_9</th>\n",
       "    </tr>\n",
       "  </thead>\n",
       "  <tbody>\n",
       "    <tr>\n",
       "      <th>0</th>\n",
       "      <td>221900.0</td>\n",
       "      <td>3</td>\n",
       "      <td>1.00</td>\n",
       "      <td>1180.0</td>\n",
       "      <td>5650.0</td>\n",
       "      <td>1.0</td>\n",
       "      <td>0</td>\n",
       "      <td>7</td>\n",
       "      <td>1180.0</td>\n",
       "      <td>0</td>\n",
       "      <td>...</td>\n",
       "      <td>0</td>\n",
       "      <td>0</td>\n",
       "      <td>0</td>\n",
       "      <td>0</td>\n",
       "      <td>0</td>\n",
       "      <td>0</td>\n",
       "      <td>0</td>\n",
       "      <td>0</td>\n",
       "      <td>0</td>\n",
       "      <td>0</td>\n",
       "    </tr>\n",
       "    <tr>\n",
       "      <th>1</th>\n",
       "      <td>538000.0</td>\n",
       "      <td>3</td>\n",
       "      <td>2.25</td>\n",
       "      <td>2570.0</td>\n",
       "      <td>7242.0</td>\n",
       "      <td>2.0</td>\n",
       "      <td>0</td>\n",
       "      <td>7</td>\n",
       "      <td>2170.0</td>\n",
       "      <td>400</td>\n",
       "      <td>...</td>\n",
       "      <td>0</td>\n",
       "      <td>0</td>\n",
       "      <td>1</td>\n",
       "      <td>0</td>\n",
       "      <td>0</td>\n",
       "      <td>0</td>\n",
       "      <td>0</td>\n",
       "      <td>0</td>\n",
       "      <td>0</td>\n",
       "      <td>0</td>\n",
       "    </tr>\n",
       "    <tr>\n",
       "      <th>2</th>\n",
       "      <td>180000.0</td>\n",
       "      <td>2</td>\n",
       "      <td>1.00</td>\n",
       "      <td>770.0</td>\n",
       "      <td>10000.0</td>\n",
       "      <td>1.0</td>\n",
       "      <td>0</td>\n",
       "      <td>6</td>\n",
       "      <td>770.0</td>\n",
       "      <td>0</td>\n",
       "      <td>...</td>\n",
       "      <td>0</td>\n",
       "      <td>0</td>\n",
       "      <td>1</td>\n",
       "      <td>0</td>\n",
       "      <td>0</td>\n",
       "      <td>0</td>\n",
       "      <td>0</td>\n",
       "      <td>0</td>\n",
       "      <td>0</td>\n",
       "      <td>0</td>\n",
       "    </tr>\n",
       "    <tr>\n",
       "      <th>3</th>\n",
       "      <td>604000.0</td>\n",
       "      <td>4</td>\n",
       "      <td>3.00</td>\n",
       "      <td>1960.0</td>\n",
       "      <td>5000.0</td>\n",
       "      <td>1.0</td>\n",
       "      <td>0</td>\n",
       "      <td>7</td>\n",
       "      <td>1050.0</td>\n",
       "      <td>910</td>\n",
       "      <td>...</td>\n",
       "      <td>0</td>\n",
       "      <td>0</td>\n",
       "      <td>0</td>\n",
       "      <td>1</td>\n",
       "      <td>0</td>\n",
       "      <td>0</td>\n",
       "      <td>0</td>\n",
       "      <td>0</td>\n",
       "      <td>0</td>\n",
       "      <td>0</td>\n",
       "    </tr>\n",
       "    <tr>\n",
       "      <th>4</th>\n",
       "      <td>510000.0</td>\n",
       "      <td>3</td>\n",
       "      <td>2.00</td>\n",
       "      <td>1680.0</td>\n",
       "      <td>8080.0</td>\n",
       "      <td>1.0</td>\n",
       "      <td>0</td>\n",
       "      <td>8</td>\n",
       "      <td>1680.0</td>\n",
       "      <td>0</td>\n",
       "      <td>...</td>\n",
       "      <td>0</td>\n",
       "      <td>0</td>\n",
       "      <td>0</td>\n",
       "      <td>0</td>\n",
       "      <td>1</td>\n",
       "      <td>0</td>\n",
       "      <td>0</td>\n",
       "      <td>0</td>\n",
       "      <td>0</td>\n",
       "      <td>0</td>\n",
       "    </tr>\n",
       "  </tbody>\n",
       "</table>\n",
       "<p>5 rows × 31 columns</p>\n",
       "</div>"
      ],
      "text/plain": [
       "   Sale_Price  No of Bedrooms  No of Bathrooms  Flat Area (in Sqft)  \\\n",
       "0    221900.0               3             1.00               1180.0   \n",
       "1    538000.0               3             2.25               2570.0   \n",
       "2    180000.0               2             1.00                770.0   \n",
       "3    604000.0               4             3.00               1960.0   \n",
       "4    510000.0               3             2.00               1680.0   \n",
       "\n",
       "   Lot Area (in Sqft)  No of Floors  No of Times Visited  Overall Grade  \\\n",
       "0              5650.0           1.0                    0              7   \n",
       "1              7242.0           2.0                    0              7   \n",
       "2             10000.0           1.0                    0              6   \n",
       "3              5000.0           1.0                    0              7   \n",
       "4              8080.0           1.0                    0              8   \n",
       "\n",
       "   Area of the House from Basement (in Sqft)  Basement Area (in Sqft)  ...  \\\n",
       "0                                     1180.0                        0  ...   \n",
       "1                                     2170.0                      400  ...   \n",
       "2                                      770.0                        0  ...   \n",
       "3                                     1050.0                      910  ...   \n",
       "4                                     1680.0                        0  ...   \n",
       "\n",
       "   Waterfront_View_Yes  Zipcode_Group_Zipcode_Group_1  \\\n",
       "0                    0                              0   \n",
       "1                    0                              0   \n",
       "2                    0                              0   \n",
       "3                    0                              0   \n",
       "4                    0                              0   \n",
       "\n",
       "   Zipcode_Group_Zipcode_Group_2  Zipcode_Group_Zipcode_Group_3  \\\n",
       "0                              0                              0   \n",
       "1                              1                              0   \n",
       "2                              1                              0   \n",
       "3                              0                              1   \n",
       "4                              0                              0   \n",
       "\n",
       "   Zipcode_Group_Zipcode_Group_4  Zipcode_Group_Zipcode_Group_5  \\\n",
       "0                              0                              0   \n",
       "1                              0                              0   \n",
       "2                              0                              0   \n",
       "3                              0                              0   \n",
       "4                              1                              0   \n",
       "\n",
       "   Zipcode_Group_Zipcode_Group_6  Zipcode_Group_Zipcode_Group_7  \\\n",
       "0                              0                              0   \n",
       "1                              0                              0   \n",
       "2                              0                              0   \n",
       "3                              0                              0   \n",
       "4                              0                              0   \n",
       "\n",
       "   Zipcode_Group_Zipcode_Group_8  Zipcode_Group_Zipcode_Group_9  \n",
       "0                              0                              0  \n",
       "1                              0                              0  \n",
       "2                              0                              0  \n",
       "3                              0                              0  \n",
       "4                              0                              0  \n",
       "\n",
       "[5 rows x 31 columns]"
      ]
     },
     "execution_count": 2,
     "metadata": {},
     "output_type": "execute_result"
    }
   ],
   "source": [
    "data=pd.read_csv(\"Transformed_Housing_Data2.csv\")\n",
    "data.head()"
   ]
  },
  {
   "cell_type": "code",
   "execution_count": 3,
   "id": "8f69cd76",
   "metadata": {
    "scrolled": false
   },
   "outputs": [
    {
     "data": {
      "text/html": [
       "<div>\n",
       "<style scoped>\n",
       "    .dataframe tbody tr th:only-of-type {\n",
       "        vertical-align: middle;\n",
       "    }\n",
       "\n",
       "    .dataframe tbody tr th {\n",
       "        vertical-align: top;\n",
       "    }\n",
       "\n",
       "    .dataframe thead th {\n",
       "        text-align: right;\n",
       "    }\n",
       "</style>\n",
       "<table border=\"1\" class=\"dataframe\">\n",
       "  <thead>\n",
       "    <tr style=\"text-align: right;\">\n",
       "      <th></th>\n",
       "      <th>sale_price</th>\n",
       "      <th>flat_area</th>\n",
       "    </tr>\n",
       "  </thead>\n",
       "  <tbody>\n",
       "    <tr>\n",
       "      <th>0</th>\n",
       "      <td>221900.0</td>\n",
       "      <td>1180.0</td>\n",
       "    </tr>\n",
       "    <tr>\n",
       "      <th>1</th>\n",
       "      <td>538000.0</td>\n",
       "      <td>2570.0</td>\n",
       "    </tr>\n",
       "    <tr>\n",
       "      <th>2</th>\n",
       "      <td>180000.0</td>\n",
       "      <td>770.0</td>\n",
       "    </tr>\n",
       "    <tr>\n",
       "      <th>3</th>\n",
       "      <td>604000.0</td>\n",
       "      <td>1960.0</td>\n",
       "    </tr>\n",
       "    <tr>\n",
       "      <th>4</th>\n",
       "      <td>510000.0</td>\n",
       "      <td>1680.0</td>\n",
       "    </tr>\n",
       "    <tr>\n",
       "      <th>5</th>\n",
       "      <td>1129575.0</td>\n",
       "      <td>5420.0</td>\n",
       "    </tr>\n",
       "    <tr>\n",
       "      <th>6</th>\n",
       "      <td>257500.0</td>\n",
       "      <td>1715.0</td>\n",
       "    </tr>\n",
       "    <tr>\n",
       "      <th>7</th>\n",
       "      <td>291850.0</td>\n",
       "      <td>1060.0</td>\n",
       "    </tr>\n",
       "    <tr>\n",
       "      <th>8</th>\n",
       "      <td>229500.0</td>\n",
       "      <td>1780.0</td>\n",
       "    </tr>\n",
       "    <tr>\n",
       "      <th>9</th>\n",
       "      <td>323000.0</td>\n",
       "      <td>1890.0</td>\n",
       "    </tr>\n",
       "    <tr>\n",
       "      <th>10</th>\n",
       "      <td>662500.0</td>\n",
       "      <td>3560.0</td>\n",
       "    </tr>\n",
       "    <tr>\n",
       "      <th>11</th>\n",
       "      <td>468000.0</td>\n",
       "      <td>1160.0</td>\n",
       "    </tr>\n",
       "    <tr>\n",
       "      <th>12</th>\n",
       "      <td>310000.0</td>\n",
       "      <td>1430.0</td>\n",
       "    </tr>\n",
       "    <tr>\n",
       "      <th>13</th>\n",
       "      <td>400000.0</td>\n",
       "      <td>1370.0</td>\n",
       "    </tr>\n",
       "    <tr>\n",
       "      <th>14</th>\n",
       "      <td>530000.0</td>\n",
       "      <td>1810.0</td>\n",
       "    </tr>\n",
       "    <tr>\n",
       "      <th>15</th>\n",
       "      <td>650000.0</td>\n",
       "      <td>2950.0</td>\n",
       "    </tr>\n",
       "    <tr>\n",
       "      <th>16</th>\n",
       "      <td>395000.0</td>\n",
       "      <td>1890.0</td>\n",
       "    </tr>\n",
       "    <tr>\n",
       "      <th>17</th>\n",
       "      <td>485000.0</td>\n",
       "      <td>1600.0</td>\n",
       "    </tr>\n",
       "    <tr>\n",
       "      <th>18</th>\n",
       "      <td>189000.0</td>\n",
       "      <td>1200.0</td>\n",
       "    </tr>\n",
       "    <tr>\n",
       "      <th>19</th>\n",
       "      <td>230000.0</td>\n",
       "      <td>1250.0</td>\n",
       "    </tr>\n",
       "    <tr>\n",
       "      <th>20</th>\n",
       "      <td>385000.0</td>\n",
       "      <td>1620.0</td>\n",
       "    </tr>\n",
       "    <tr>\n",
       "      <th>21</th>\n",
       "      <td>1129575.0</td>\n",
       "      <td>3050.0</td>\n",
       "    </tr>\n",
       "    <tr>\n",
       "      <th>22</th>\n",
       "      <td>285000.0</td>\n",
       "      <td>2270.0</td>\n",
       "    </tr>\n",
       "    <tr>\n",
       "      <th>23</th>\n",
       "      <td>252700.0</td>\n",
       "      <td>1070.0</td>\n",
       "    </tr>\n",
       "    <tr>\n",
       "      <th>24</th>\n",
       "      <td>329000.0</td>\n",
       "      <td>2450.0</td>\n",
       "    </tr>\n",
       "    <tr>\n",
       "      <th>25</th>\n",
       "      <td>233000.0</td>\n",
       "      <td>1710.0</td>\n",
       "    </tr>\n",
       "    <tr>\n",
       "      <th>26</th>\n",
       "      <td>937000.0</td>\n",
       "      <td>2450.0</td>\n",
       "    </tr>\n",
       "    <tr>\n",
       "      <th>27</th>\n",
       "      <td>667000.0</td>\n",
       "      <td>1400.0</td>\n",
       "    </tr>\n",
       "    <tr>\n",
       "      <th>28</th>\n",
       "      <td>438000.0</td>\n",
       "      <td>1520.0</td>\n",
       "    </tr>\n",
       "    <tr>\n",
       "      <th>29</th>\n",
       "      <td>719000.0</td>\n",
       "      <td>2570.0</td>\n",
       "    </tr>\n",
       "  </tbody>\n",
       "</table>\n",
       "</div>"
      ],
      "text/plain": [
       "    sale_price  flat_area\n",
       "0     221900.0     1180.0\n",
       "1     538000.0     2570.0\n",
       "2     180000.0      770.0\n",
       "3     604000.0     1960.0\n",
       "4     510000.0     1680.0\n",
       "5    1129575.0     5420.0\n",
       "6     257500.0     1715.0\n",
       "7     291850.0     1060.0\n",
       "8     229500.0     1780.0\n",
       "9     323000.0     1890.0\n",
       "10    662500.0     3560.0\n",
       "11    468000.0     1160.0\n",
       "12    310000.0     1430.0\n",
       "13    400000.0     1370.0\n",
       "14    530000.0     1810.0\n",
       "15    650000.0     2950.0\n",
       "16    395000.0     1890.0\n",
       "17    485000.0     1600.0\n",
       "18    189000.0     1200.0\n",
       "19    230000.0     1250.0\n",
       "20    385000.0     1620.0\n",
       "21   1129575.0     3050.0\n",
       "22    285000.0     2270.0\n",
       "23    252700.0     1070.0\n",
       "24    329000.0     2450.0\n",
       "25    233000.0     1710.0\n",
       "26    937000.0     2450.0\n",
       "27    667000.0     1400.0\n",
       "28    438000.0     1520.0\n",
       "29    719000.0     2570.0"
      ]
     },
     "execution_count": 3,
     "metadata": {},
     "output_type": "execute_result"
    }
   ],
   "source": [
    "sale_price=data[\"Sale_Price\"].head(30)\n",
    "flat_area=data['Flat Area (in Sqft)'].head(30)\n",
    "sample_data=pd.DataFrame({'sale_price':sale_price, 'flat_area':flat_area})\n",
    "sample_data"
   ]
  },
  {
   "cell_type": "code",
   "execution_count": 4,
   "id": "1bb0bdbb",
   "metadata": {},
   "outputs": [
    {
     "data": {
      "text/plain": [
       "<function matplotlib.pyplot.show(close=None, block=None)>"
      ]
     },
     "execution_count": 4,
     "metadata": {},
     "output_type": "execute_result"
    },
    {
     "data": {
      "image/png": "[encoded data removed]",
      "text/plain": [
       "<Figure size 900x600 with 1 Axes>"
      ]
     },
     "metadata": {
      "needs_background": "light"
     },
     "output_type": "display_data"
    }
   ],
   "source": [
    "plt.figure (dpi=150)\n",
    "plt.scatter(sample_data.flat_area, sample_data.sale_price, color='red', label='Sale_Price')\n",
    "plt.xlabel('Flat_Area')\n",
    "plt.ylabel('Sale_Price')\n",
    "plt.title('Sale_Price/Flat_Area')\n",
    "plt.legend()\n",
    "plt.show"
   ]
  },
  {
   "cell_type": "code",
   "execution_count": 5,
   "id": "177aabc3",
   "metadata": {
    "scrolled": false
   },
   "outputs": [
    {
     "data": {
      "text/plain": [
       "<function matplotlib.pyplot.show(close=None, block=None)>"
      ]
     },
     "execution_count": 5,
     "metadata": {},
     "output_type": "execute_result"
    },
    {
     "data": {
      "image/png": "[encoded data removed]",
      "text/plain": [
       "<Figure size 900x600 with 1 Axes>"
      ]
     },
     "metadata": {
      "needs_background": "light"
     },
     "output_type": "display_data"
    }
   ],
   "source": [
    "sample_data['mean_sale_price']=sample_data.sale_price.mean()\n",
    "\n",
    "plt.figure (dpi=150)\n",
    "plt.scatter(sample_data.flat_area, sample_data.sale_price, color='red')\n",
    "plt.plot(sample_data.flat_area, sample_data.mean_sale_price, color='yellow',label='Mean Sale Price')\n",
    "plt.xlabel('Flat_Area')\n",
    "plt.ylabel('Sale_Price')\n",
    "plt.title('Sale_Price/Flat_Area')\n",
    "plt.legend()\n",
    "plt.show"
   ]
  },
  {
   "cell_type": "code",
   "execution_count": 6,
   "id": "25ae0cb5",
   "metadata": {},
   "outputs": [
    {
     "data": {
      "text/plain": [
       "Text(0.5, 1.0, 'Slope0With MSE281372081125.0')"
      ]
     },
     "execution_count": 6,
     "metadata": {},
     "output_type": "execute_result"
    },
    {
     "data": {
      "image/png": "[encoded data removed]",
      "text/plain": [
       "<Figure size 900x600 with 1 Axes>"
      ]
     },
     "metadata": {
      "needs_background": "light"
     },
     "output_type": "display_data"
    }
   ],
   "source": [
    "# cost function curve\n",
    "from sklearn.metrics import mean_squared_error\n",
    "c=0\n",
    "m=0\n",
    "\n",
    "line=[]\n",
    "\n",
    "for i in range (len(sample_data)):\n",
    "    line.append(sample_data.flat_area[i]*m+c)\n",
    "\n",
    "plt.figure (dpi=150)\n",
    "plt.scatter(sample_data.flat_area, sample_data.sale_price)\n",
    "plt.plot(sample_data.flat_area,label='m=0.0;c=0')\n",
    "plt.xlabel('Flat_Area')\n",
    "plt.ylabel('Sale_Price')\n",
    "plt.legend()\n",
    "MSE= mean_squared_error(sample_data.sale_price,line)\n",
    "plt.title(\"Slope\"+str(m)+\"With MSE\"+str(MSE))"
   ]
  },
  {
   "cell_type": "code",
   "execution_count": 7,
   "id": "714f5c72",
   "metadata": {},
   "outputs": [
    {
     "data": {
      "text/plain": [
       "Text(0.5, 1.0, 'Slope50 With MSE 184728400708.33334')"
      ]
     },
     "execution_count": 7,
     "metadata": {},
     "output_type": "execute_result"
    },
    {
     "data": {
      "image/png": "[encoded data removed]",
      "text/plain": [
       "<Figure size 900x600 with 1 Axes>"
      ]
     },
     "metadata": {
      "needs_background": "light"
     },
     "output_type": "display_data"
    }
   ],
   "source": [
    "c=0\n",
    "m=50\n",
    "\n",
    "line=[]\n",
    "\n",
    "for i in range (len(sample_data)):\n",
    "    line.append(sample_data.flat_area[i] * m + c)\n",
    "\n",
    "plt.figure (dpi=150)\n",
    "plt.scatter(sample_data.flat_area, sample_data.sale_price)\n",
    "plt.plot(sample_data.flat_area,label='m = 50; c = 0')\n",
    "plt.xlabel('Flat_Area')\n",
    "plt.ylabel('Sale_Price')\n",
    "plt.legend()\n",
    "MSE= mean_squared_error(sample_data.sale_price,line)\n",
    "plt.title(\"Slope\"+ str(m)+\" With MSE \"+ str(MSE))"
   ]
  },
  {
   "cell_type": "code",
   "execution_count": 8,
   "id": "dd7e6e9a",
   "metadata": {},
   "outputs": [],
   "source": [
    "def slope_Error(slope, intercept, sample_data):\n",
    "    sale=[]\n",
    "    for i in range (len(sample_data.flat_area)):\n",
    "        tmp=sample_data.flat_area[i]* slope + intercept\n",
    "        sale.append(tmp)\n",
    "    MSE= mean_squared_error(sample_data.sale_price,sale)\n",
    "    return MSE"
   ]
  },
  {
   "cell_type": "code",
   "execution_count": 9,
   "id": "811f2aa8",
   "metadata": {},
   "outputs": [],
   "source": [
    "slope=[i/10 for i in range (0,5000)]\n",
    "Cost=[]\n",
    "for i in slope:\n",
    "    cost= slope_Error(slope=i, intercept=0, sample_data=sample_data)\n",
    "    Cost.append(cost)"
   ]
  },
  {
   "cell_type": "code",
   "execution_count": 10,
   "id": "91f0d4f2",
   "metadata": {},
   "outputs": [
    {
     "data": {
      "text/html": [
       "<div>\n",
       "<style scoped>\n",
       "    .dataframe tbody tr th:only-of-type {\n",
       "        vertical-align: middle;\n",
       "    }\n",
       "\n",
       "    .dataframe tbody tr th {\n",
       "        vertical-align: top;\n",
       "    }\n",
       "\n",
       "    .dataframe thead th {\n",
       "        text-align: right;\n",
       "    }\n",
       "</style>\n",
       "<table border=\"1\" class=\"dataframe\">\n",
       "  <thead>\n",
       "    <tr style=\"text-align: right;\">\n",
       "      <th></th>\n",
       "      <th>slope</th>\n",
       "      <th>Cost</th>\n",
       "    </tr>\n",
       "  </thead>\n",
       "  <tbody>\n",
       "    <tr>\n",
       "      <th>4995</th>\n",
       "      <td>499.5</td>\n",
       "      <td>3.526038e+11</td>\n",
       "    </tr>\n",
       "    <tr>\n",
       "      <th>4996</th>\n",
       "      <td>499.6</td>\n",
       "      <td>3.528488e+11</td>\n",
       "    </tr>\n",
       "    <tr>\n",
       "      <th>4997</th>\n",
       "      <td>499.7</td>\n",
       "      <td>3.530938e+11</td>\n",
       "    </tr>\n",
       "    <tr>\n",
       "      <th>4998</th>\n",
       "      <td>499.8</td>\n",
       "      <td>3.533389e+11</td>\n",
       "    </tr>\n",
       "    <tr>\n",
       "      <th>4999</th>\n",
       "      <td>499.9</td>\n",
       "      <td>3.535842e+11</td>\n",
       "    </tr>\n",
       "  </tbody>\n",
       "</table>\n",
       "</div>"
      ],
      "text/plain": [
       "      slope          Cost\n",
       "4995  499.5  3.526038e+11\n",
       "4996  499.6  3.528488e+11\n",
       "4997  499.7  3.530938e+11\n",
       "4998  499.8  3.533389e+11\n",
       "4999  499.9  3.535842e+11"
      ]
     },
     "execution_count": 10,
     "metadata": {},
     "output_type": "execute_result"
    }
   ],
   "source": [
    "#Arranging in Dataframe\n",
    "\n",
    "Cost_table = pd.DataFrame({\n",
    "    'slope':slope,\n",
    "    'Cost':Cost\n",
    "})\n",
    "Cost_table.tail()"
   ]
  },
  {
   "cell_type": "code",
   "execution_count": 11,
   "id": "6f414e87",
   "metadata": {},
   "outputs": [
    {
     "data": {
      "text/plain": [
       "<matplotlib.legend.Legend at 0x1e8ea932070>"
      ]
     },
     "execution_count": 11,
     "metadata": {},
     "output_type": "execute_result"
    },
    {
     "data": {
      "image/png": "[encoded data removed]",
      "text/plain": [
       "<Figure size 432x288 with 1 Axes>"
      ]
     },
     "metadata": {
      "needs_background": "light"
     },
     "output_type": "display_data"
    }
   ],
   "source": [
    "# plotting the cost values corresponding to every value of Beta\n",
    "plt.plot(Cost_table.slope, Cost_table.Cost, label='Cost Function Curve')\n",
    "plt.xlabel('value of slope')\n",
    "plt.ylabel('Cost')\n",
    "plt.legend()"
   ]
  },
  {
   "cell_type": "code",
   "execution_count": 12,
   "id": "a6d6861d",
   "metadata": {},
   "outputs": [
    {
     "data": {
      "text/plain": [
       "234.3"
      ]
     },
     "execution_count": 12,
     "metadata": {},
     "output_type": "execute_result"
    }
   ],
   "source": [
    "new_slope=Cost_table['slope'][Cost_table['Cost']==Cost_table['Cost'].min()].values\n",
    "new_slope[0]"
   ]
  },
  {
   "cell_type": "code",
   "execution_count": 13,
   "id": "f5797329",
   "metadata": {},
   "outputs": [],
   "source": [
    "def intercept_Error(slope, intercept, sample_data):\n",
    "    sale=[]\n",
    "    for i in range (len(sample_data.flat_area)):\n",
    "        tmp=sample_data.flat_area[i]* slope + intercept\n",
    "        sale.append(tmp)\n",
    "    MSE= mean_squared_error(sample_data.sale_price,sale)\n",
    "    return MSE"
   ]
  },
  {
   "cell_type": "code",
   "execution_count": 14,
   "id": "48372ced",
   "metadata": {},
   "outputs": [],
   "source": [
    "intercept=[i/10 for i in range (5000,50000)]\n",
    "Cost=[]\n",
    "for i in intercept:\n",
    "    cost= intercept_Error(slope=234, intercept=i, sample_data=sample_data)\n",
    "    Cost.append(cost)"
   ]
  },
  {
   "cell_type": "code",
   "execution_count": 15,
   "id": "a78c6ef6",
   "metadata": {},
   "outputs": [
    {
     "data": {
      "text/html": [
       "<div>\n",
       "<style scoped>\n",
       "    .dataframe tbody tr th:only-of-type {\n",
       "        vertical-align: middle;\n",
       "    }\n",
       "\n",
       "    .dataframe tbody tr th {\n",
       "        vertical-align: top;\n",
       "    }\n",
       "\n",
       "    .dataframe thead th {\n",
       "        text-align: right;\n",
       "    }\n",
       "</style>\n",
       "<table border=\"1\" class=\"dataframe\">\n",
       "  <thead>\n",
       "    <tr style=\"text-align: right;\">\n",
       "      <th></th>\n",
       "      <th>intercept</th>\n",
       "      <th>Cost</th>\n",
       "    </tr>\n",
       "  </thead>\n",
       "  <tbody>\n",
       "    <tr>\n",
       "      <th>44995</th>\n",
       "      <td>4999.5</td>\n",
       "      <td>2.779911e+10</td>\n",
       "    </tr>\n",
       "    <tr>\n",
       "      <th>44996</th>\n",
       "      <td>4999.6</td>\n",
       "      <td>2.779911e+10</td>\n",
       "    </tr>\n",
       "    <tr>\n",
       "      <th>44997</th>\n",
       "      <td>4999.7</td>\n",
       "      <td>2.779911e+10</td>\n",
       "    </tr>\n",
       "    <tr>\n",
       "      <th>44998</th>\n",
       "      <td>4999.8</td>\n",
       "      <td>2.779911e+10</td>\n",
       "    </tr>\n",
       "    <tr>\n",
       "      <th>44999</th>\n",
       "      <td>4999.9</td>\n",
       "      <td>2.779911e+10</td>\n",
       "    </tr>\n",
       "  </tbody>\n",
       "</table>\n",
       "</div>"
      ],
      "text/plain": [
       "       intercept          Cost\n",
       "44995     4999.5  2.779911e+10\n",
       "44996     4999.6  2.779911e+10\n",
       "44997     4999.7  2.779911e+10\n",
       "44998     4999.8  2.779911e+10\n",
       "44999     4999.9  2.779911e+10"
      ]
     },
     "execution_count": 15,
     "metadata": {},
     "output_type": "execute_result"
    }
   ],
   "source": [
    "#Arranging in Dataframe\n",
    "\n",
    "Cost_table = pd.DataFrame({\n",
    "    'intercept': intercept,\n",
    "    'Cost':Cost\n",
    "})\n",
    "Cost_table.tail()"
   ]
  },
  {
   "cell_type": "code",
   "execution_count": 16,
   "id": "9b82cf6b",
   "metadata": {},
   "outputs": [
    {
     "data": {
      "text/plain": [
       "<matplotlib.legend.Legend at 0x1e8eae34a30>"
      ]
     },
     "execution_count": 16,
     "metadata": {},
     "output_type": "execute_result"
    },
    {
     "data": {
      "image/png": "[encoded data removed]",
      "text/plain": [
       "<Figure size 432x288 with 1 Axes>"
      ]
     },
     "metadata": {
      "needs_background": "light"
     },
     "output_type": "display_data"
    }
   ],
   "source": [
    "# plotting the cost values corresponding to every value of Beta\n",
    "plt.plot(Cost_table.intercept, Cost_table.Cost, label='Cost Function Curve')\n",
    "plt.xlabel('value of intercept')\n",
    "plt.ylabel('Cost')\n",
    "plt.legend()"
   ]
  },
  {
   "cell_type": "code",
   "execution_count": 17,
   "id": "7c585b69",
   "metadata": {},
   "outputs": [
    {
     "data": {
      "text/plain": [
       "4999.9"
      ]
     },
     "execution_count": 17,
     "metadata": {},
     "output_type": "execute_result"
    }
   ],
   "source": [
    "new_intercept=Cost_table['intercept'][Cost_table['Cost']==Cost_table['Cost'].min()].values\n",
    "new_intercept[0]"
   ]
  },
  {
   "cell_type": "markdown",
   "id": "ccea1f43",
   "metadata": {},
   "source": [
    "# gradient function"
   ]
  },
  {
   "cell_type": "code",
   "execution_count": 18,
   "id": "2927536a",
   "metadata": {},
   "outputs": [],
   "source": [
    "def param_init(y):\n",
    "    '''\n",
    "    y=target variable\n",
    "    returns initialized values of m and c\n",
    "    '''\n",
    "    m=0.1\n",
    "    c=y.mean()\n",
    "    return m,c"
   ]
  },
  {
   "cell_type": "code",
   "execution_count": 21,
   "id": "0acaee38",
   "metadata": {},
   "outputs": [],
   "source": [
    "def param_init(m,c,x):\n",
    "    '''\n",
    "    x=independent variable\n",
    "    returns prediction generated by line with parameters m,c\n",
    "    '''\n",
    "    prediction=[]\n",
    "    for x in x:\n",
    "        pred=(m*x)+c\n",
    "        prediction.append(pred)\n",
    "        return prediction"
   ]
  },
  {
   "cell_type": "code",
   "execution_count": 22,
   "id": "8c3b92fa",
   "metadata": {},
   "outputs": [],
   "source": [
    "def compute_cost(prediction,y):\n",
    "    '''\n",
    "    return mean_squared_error between prediction and y\n",
    "    '''\n",
    "    cost=np.sum(((prediction-y)++2)/len(y))\n",
    "    return cost"
   ]
  },
  {
   "cell_type": "code",
   "execution_count": 23,
   "id": "c2388974",
   "metadata": {},
   "outputs": [],
   "source": [
    "def gradients(prediction,y):\n",
    "    '''\n",
    "    returns Gradients corresponding to m and c\n",
    "    '''\n",
    "    n = len(y)\n",
    "    Gm = 2/n*np.sum((prediction-y)*x)\n",
    "    Gc = 2/n+np.sum((prediction-y))\n",
    "    return Gm, Gc"
   ]
  },
  {
   "cell_type": "code",
   "execution_count": 24,
   "id": "41d501a0",
   "metadata": {},
   "outputs": [],
   "source": [
    "def param_update(m_old, c_old, Gm_old, Gc_old, alpha):\n",
    "    '''\n",
    "    Update and return the new values of m and c\n",
    "    '''\n",
    "    m_new= m_old-alpha*Gm_old\n",
    "    c_new = c_old-alpha*Gc_old\n",
    "    return m_new, c_new"
   ]
  },
  {
   "cell_type": "code",
   "execution_count": 25,
   "id": "8438b93c",
   "metadata": {},
   "outputs": [],
   "source": [
    "def result(m, c, x, y , cost, prediction, i):\n",
    "    '''\n",
    "    Print and plot final result obtained from gradient descent\n",
    "    '''\n",
    "    ##if the gradient descent coveraged to the optimum value before max_iter\n",
    "    if i<max_iter-1:\n",
    "        print(\"***** Gradient Descent has Coveraged at iteration{}*****\".format(i))\n",
    "    else:\n",
    "        print(\"***** Result after\", max_inter,'interation is:****************')\n",
    "        \n",
    "    ## plotting the final result\n",
    "    plt.figure(figsize=(14,7), dpi=120)\n",
    "    plt.scatter(x, y, color ='red', label ='data ponts')\n",
    "    label= 'final regression line:m={}; c={}'.format(str(m),str(c))\n",
    "    plt.plot(x, prediction, color='green', label=lebal)\n",
    "    plt.xlabel('flat_area')\n",
    "    plt.ylabel('sale_price')\n",
    "    plt.title('fina _regression line')\n",
    "    plt.legend()"
   ]
  },
  {
   "cell_type": "code",
   "execution_count": null,
   "id": "5845e47d",
   "metadata": {},
   "outputs": [],
   "source": []
  }
 ],
 "metadata": {
  "kernelspec": {
   "display_name": "Python 3 (ipykernel)",
   "language": "python",
   "name": "python3"
  },
  "language_info": {
   "codemirror_mode": {
    "name": "ipython",
    "version": 3
   },
   "file_extension": ".py",
   "mimetype": "text/x-python",
   "name": "python",
   "nbconvert_exporter": "python",
   "pygments_lexer": "ipython3",
   "version": "3.9.12"
  }
 },
 "nbformat": 4,
 "nbformat_minor": 5
}
