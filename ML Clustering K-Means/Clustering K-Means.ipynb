{
 "cells": [
  {
   "cell_type": "code",
   "execution_count": 1,
   "id": "de9789db",
   "metadata": {},
   "outputs": [],
   "source": [
    "import pandas as pd\n",
    "import numpy as np\n",
    "import matplotlib.pyplot as plt\n",
    "%matplotlib inline "
   ]
  },
  {
   "cell_type": "code",
   "execution_count": 2,
   "id": "1ed6091a",
   "metadata": {},
   "outputs": [
    {
     "name": "stdout",
     "output_type": "stream",
     "text": [
      "<class 'pandas.core.frame.DataFrame'>\n",
      "RangeIndex: 38 entries, 0 to 37\n",
      "Data columns (total 9 columns):\n",
      " #   Column              Non-Null Count  Dtype \n",
      "---  ------              --------------  ----- \n",
      " 0   Region              38 non-null     object\n",
      " 1   Office Location Id  38 non-null     int64 \n",
      " 2   Indians             38 non-null     object\n",
      " 3   Foreigners          38 non-null     object\n",
      " 4   Indian_Male         38 non-null     object\n",
      " 5   Indian_Female       38 non-null     object\n",
      " 6   Foreigners_Male     38 non-null     object\n",
      " 7   Foreigners_Female   38 non-null     object\n",
      " 8   Total Population    38 non-null     object\n",
      "dtypes: int64(1), object(8)\n",
      "memory usage: 2.8+ KB\n"
     ]
    }
   ],
   "source": [
    "data = pd.read_csv(\"Population_Data.csv\")\n",
    "data.info()"
   ]
  },
  {
   "cell_type": "code",
   "execution_count": 3,
   "id": "45d6d04f",
   "metadata": {},
   "outputs": [
    {
     "data": {
      "text/html": [
       "<div>\n",
       "<style scoped>\n",
       "    .dataframe tbody tr th:only-of-type {\n",
       "        vertical-align: middle;\n",
       "    }\n",
       "\n",
       "    .dataframe tbody tr th {\n",
       "        vertical-align: top;\n",
       "    }\n",
       "\n",
       "    .dataframe thead th {\n",
       "        text-align: right;\n",
       "    }\n",
       "</style>\n",
       "<table border=\"1\" class=\"dataframe\">\n",
       "  <thead>\n",
       "    <tr style=\"text-align: right;\">\n",
       "      <th></th>\n",
       "      <th>Region</th>\n",
       "      <th>Office Location Id</th>\n",
       "      <th>Indians</th>\n",
       "      <th>Foreigners</th>\n",
       "      <th>Indian_Male</th>\n",
       "      <th>Indian_Female</th>\n",
       "      <th>Foreigners_Male</th>\n",
       "      <th>Foreigners_Female</th>\n",
       "      <th>Total Population</th>\n",
       "    </tr>\n",
       "  </thead>\n",
       "  <tbody>\n",
       "    <tr>\n",
       "      <th>0</th>\n",
       "      <td>Region 31</td>\n",
       "      <td>1</td>\n",
       "      <td>6,43,596</td>\n",
       "      <td>28,83,782</td>\n",
       "      <td>4,40,445</td>\n",
       "      <td>2,03,151</td>\n",
       "      <td>27,63,718</td>\n",
       "      <td>72,515</td>\n",
       "      <td>35,27,378</td>\n",
       "    </tr>\n",
       "    <tr>\n",
       "      <th>1</th>\n",
       "      <td>Region 17</td>\n",
       "      <td>9</td>\n",
       "      <td>3,19,933</td>\n",
       "      <td>15,01,899</td>\n",
       "      <td>2,13,477</td>\n",
       "      <td>1,06,456</td>\n",
       "      <td>14,49,303</td>\n",
       "      <td>27,671</td>\n",
       "      <td>1821832</td>\n",
       "    </tr>\n",
       "    <tr>\n",
       "      <th>2</th>\n",
       "      <td>Region 12</td>\n",
       "      <td>4</td>\n",
       "      <td>1,94,379</td>\n",
       "      <td>6,50,744</td>\n",
       "      <td>1,61,803</td>\n",
       "      <td>32,576</td>\n",
       "      <td>6,31,660</td>\n",
       "      <td>10,652</td>\n",
       "      <td>845123</td>\n",
       "    </tr>\n",
       "    <tr>\n",
       "      <th>3</th>\n",
       "      <td>Region 22</td>\n",
       "      <td>15</td>\n",
       "      <td>1,07,360</td>\n",
       "      <td>4,70,708</td>\n",
       "      <td>85,343</td>\n",
       "      <td>22,017</td>\n",
       "      <td>4,50,267</td>\n",
       "      <td>6,389</td>\n",
       "      <td>578068</td>\n",
       "    </tr>\n",
       "    <tr>\n",
       "      <th>4</th>\n",
       "      <td>Region 23</td>\n",
       "      <td>13</td>\n",
       "      <td>55,351</td>\n",
       "      <td>3,29,980</td>\n",
       "      <td>31,796</td>\n",
       "      <td>23,555</td>\n",
       "      <td>3,25,105</td>\n",
       "      <td>3,684</td>\n",
       "      <td>385331</td>\n",
       "    </tr>\n",
       "  </tbody>\n",
       "</table>\n",
       "</div>"
      ],
      "text/plain": [
       "      Region  Office Location Id   Indians Foreigners Indian_Male  \\\n",
       "0  Region 31                   1  6,43,596  28,83,782    4,40,445   \n",
       "1  Region 17                   9  3,19,933  15,01,899    2,13,477   \n",
       "2  Region 12                   4  1,94,379   6,50,744    1,61,803   \n",
       "3  Region 22                  15  1,07,360   4,70,708      85,343   \n",
       "4  Region 23                  13    55,351   3,29,980      31,796   \n",
       "\n",
       "  Indian_Female Foreigners_Male Foreigners_Female Total Population  \n",
       "0      2,03,151       27,63,718            72,515        35,27,378  \n",
       "1      1,06,456       14,49,303            27,671          1821832  \n",
       "2        32,576        6,31,660            10,652           845123  \n",
       "3        22,017        4,50,267             6,389           578068  \n",
       "4        23,555        3,25,105             3,684           385331  "
      ]
     },
     "execution_count": 3,
     "metadata": {},
     "output_type": "execute_result"
    }
   ],
   "source": [
    "data.head()"
   ]
  },
  {
   "cell_type": "code",
   "execution_count": 4,
   "id": "a3073bb5",
   "metadata": {},
   "outputs": [],
   "source": [
    "numeric = [\"Indians\",\"Foreigners\",\n",
    "           \"Indian_Male\",\"Indian_Female\",\n",
    "           \"Foreigners_Female\",\n",
    "           'Foreigners_Male',\"Total Population\"]"
   ]
  },
  {
   "cell_type": "code",
   "execution_count": 5,
   "id": "0fd1f0b1",
   "metadata": {},
   "outputs": [],
   "source": [
    "def cleaner(z):\n",
    "  return z.replace(',','')"
   ]
  },
  {
   "cell_type": "code",
   "execution_count": 6,
   "id": "e3f9836f",
   "metadata": {},
   "outputs": [
    {
     "data": {
      "text/plain": [
       "'100234'"
      ]
     },
     "execution_count": 6,
     "metadata": {},
     "output_type": "execute_result"
    }
   ],
   "source": [
    "cleaner('100,234')"
   ]
  },
  {
   "cell_type": "code",
   "execution_count": 7,
   "id": "3fe02a5e",
   "metadata": {},
   "outputs": [
    {
     "data": {
      "text/html": [
       "<div>\n",
       "<style scoped>\n",
       "    .dataframe tbody tr th:only-of-type {\n",
       "        vertical-align: middle;\n",
       "    }\n",
       "\n",
       "    .dataframe tbody tr th {\n",
       "        vertical-align: top;\n",
       "    }\n",
       "\n",
       "    .dataframe thead th {\n",
       "        text-align: right;\n",
       "    }\n",
       "</style>\n",
       "<table border=\"1\" class=\"dataframe\">\n",
       "  <thead>\n",
       "    <tr style=\"text-align: right;\">\n",
       "      <th></th>\n",
       "      <th>Region</th>\n",
       "      <th>Office Location Id</th>\n",
       "      <th>Indians</th>\n",
       "      <th>Foreigners</th>\n",
       "      <th>Indian_Male</th>\n",
       "      <th>Indian_Female</th>\n",
       "      <th>Foreigners_Male</th>\n",
       "      <th>Foreigners_Female</th>\n",
       "      <th>Total Population</th>\n",
       "    </tr>\n",
       "  </thead>\n",
       "  <tbody>\n",
       "    <tr>\n",
       "      <th>0</th>\n",
       "      <td>Region 31</td>\n",
       "      <td>1</td>\n",
       "      <td>643596</td>\n",
       "      <td>2883782</td>\n",
       "      <td>440445</td>\n",
       "      <td>203151</td>\n",
       "      <td>2763718</td>\n",
       "      <td>72515</td>\n",
       "      <td>3527378</td>\n",
       "    </tr>\n",
       "    <tr>\n",
       "      <th>1</th>\n",
       "      <td>Region 17</td>\n",
       "      <td>9</td>\n",
       "      <td>319933</td>\n",
       "      <td>1501899</td>\n",
       "      <td>213477</td>\n",
       "      <td>106456</td>\n",
       "      <td>1449303</td>\n",
       "      <td>27671</td>\n",
       "      <td>1821832</td>\n",
       "    </tr>\n",
       "    <tr>\n",
       "      <th>2</th>\n",
       "      <td>Region 12</td>\n",
       "      <td>4</td>\n",
       "      <td>194379</td>\n",
       "      <td>650744</td>\n",
       "      <td>161803</td>\n",
       "      <td>32576</td>\n",
       "      <td>631660</td>\n",
       "      <td>10652</td>\n",
       "      <td>845123</td>\n",
       "    </tr>\n",
       "    <tr>\n",
       "      <th>3</th>\n",
       "      <td>Region 22</td>\n",
       "      <td>15</td>\n",
       "      <td>107360</td>\n",
       "      <td>470708</td>\n",
       "      <td>85343</td>\n",
       "      <td>22017</td>\n",
       "      <td>450267</td>\n",
       "      <td>6389</td>\n",
       "      <td>578068</td>\n",
       "    </tr>\n",
       "    <tr>\n",
       "      <th>4</th>\n",
       "      <td>Region 23</td>\n",
       "      <td>13</td>\n",
       "      <td>55351</td>\n",
       "      <td>329980</td>\n",
       "      <td>31796</td>\n",
       "      <td>23555</td>\n",
       "      <td>325105</td>\n",
       "      <td>3684</td>\n",
       "      <td>385331</td>\n",
       "    </tr>\n",
       "  </tbody>\n",
       "</table>\n",
       "</div>"
      ],
      "text/plain": [
       "      Region  Office Location Id Indians Foreigners Indian_Male Indian_Female  \\\n",
       "0  Region 31                   1  643596    2883782      440445        203151   \n",
       "1  Region 17                   9  319933    1501899      213477        106456   \n",
       "2  Region 12                   4  194379     650744      161803         32576   \n",
       "3  Region 22                  15  107360     470708       85343         22017   \n",
       "4  Region 23                  13   55351     329980       31796         23555   \n",
       "\n",
       "  Foreigners_Male Foreigners_Female Total Population  \n",
       "0         2763718             72515          3527378  \n",
       "1         1449303             27671          1821832  \n",
       "2          631660             10652           845123  \n",
       "3          450267              6389           578068  \n",
       "4          325105              3684           385331  "
      ]
     },
     "execution_count": 7,
     "metadata": {},
     "output_type": "execute_result"
    }
   ],
   "source": [
    "for i in data[numeric]:\n",
    "  data[i] = data[i].apply(cleaner)\n",
    "\n",
    "data.head()"
   ]
  },
  {
   "cell_type": "code",
   "execution_count": 8,
   "id": "b22bc7a1",
   "metadata": {},
   "outputs": [
    {
     "name": "stdout",
     "output_type": "stream",
     "text": [
      "<class 'pandas.core.frame.DataFrame'>\n",
      "RangeIndex: 38 entries, 0 to 37\n",
      "Data columns (total 9 columns):\n",
      " #   Column              Non-Null Count  Dtype \n",
      "---  ------              --------------  ----- \n",
      " 0   Region              38 non-null     object\n",
      " 1   Office Location Id  38 non-null     int64 \n",
      " 2   Indians             38 non-null     object\n",
      " 3   Foreigners          38 non-null     object\n",
      " 4   Indian_Male         38 non-null     object\n",
      " 5   Indian_Female       38 non-null     object\n",
      " 6   Foreigners_Male     38 non-null     object\n",
      " 7   Foreigners_Female   38 non-null     object\n",
      " 8   Total Population    38 non-null     object\n",
      "dtypes: int64(1), object(8)\n",
      "memory usage: 2.8+ KB\n"
     ]
    }
   ],
   "source": [
    "data.info()"
   ]
  },
  {
   "cell_type": "code",
   "execution_count": 9,
   "id": "3c603898",
   "metadata": {},
   "outputs": [
    {
     "name": "stdout",
     "output_type": "stream",
     "text": [
      "<class 'pandas.core.frame.DataFrame'>\n",
      "RangeIndex: 38 entries, 0 to 37\n",
      "Data columns (total 9 columns):\n",
      " #   Column              Non-Null Count  Dtype \n",
      "---  ------              --------------  ----- \n",
      " 0   Region              38 non-null     object\n",
      " 1   Office Location Id  38 non-null     int64 \n",
      " 2   Indians             38 non-null     int64 \n",
      " 3   Foreigners          38 non-null     int64 \n",
      " 4   Indian_Male         38 non-null     int64 \n",
      " 5   Indian_Female       38 non-null     int64 \n",
      " 6   Foreigners_Male     38 non-null     int64 \n",
      " 7   Foreigners_Female   38 non-null     int64 \n",
      " 8   Total Population    38 non-null     int64 \n",
      "dtypes: int64(8), object(1)\n",
      "memory usage: 2.8+ KB\n"
     ]
    }
   ],
   "source": [
    "data[numeric] = data[numeric].apply(pd.to_numeric)\n",
    "data.info()"
   ]
  },
  {
   "cell_type": "code",
   "execution_count": 10,
   "id": "8b0ba57d",
   "metadata": {},
   "outputs": [
    {
     "data": {
      "text/plain": [
       "0"
      ]
     },
     "execution_count": 10,
     "metadata": {},
     "output_type": "execute_result"
    }
   ],
   "source": [
    "data[['Indians','Foreigners']].sum().sum() - data['Total Population'].sum()"
   ]
  },
  {
   "cell_type": "code",
   "execution_count": 11,
   "id": "ea6d14ec",
   "metadata": {},
   "outputs": [
    {
     "data": {
      "text/plain": [
       "-112859"
      ]
     },
     "execution_count": 11,
     "metadata": {},
     "output_type": "execute_result"
    }
   ],
   "source": [
    "data[['Indian_Male','Indian_Female',\"Foreigners_Male\",'Foreigners_Female']].sum().sum() - data['Total Population'].sum()"
   ]
  },
  {
   "cell_type": "code",
   "execution_count": 12,
   "id": "5e806c57",
   "metadata": {},
   "outputs": [
    {
     "data": {
      "text/html": [
       "<div>\n",
       "<style scoped>\n",
       "    .dataframe tbody tr th:only-of-type {\n",
       "        vertical-align: middle;\n",
       "    }\n",
       "\n",
       "    .dataframe tbody tr th {\n",
       "        vertical-align: top;\n",
       "    }\n",
       "\n",
       "    .dataframe thead th {\n",
       "        text-align: right;\n",
       "    }\n",
       "</style>\n",
       "<table border=\"1\" class=\"dataframe\">\n",
       "  <thead>\n",
       "    <tr style=\"text-align: right;\">\n",
       "      <th></th>\n",
       "      <th>Region</th>\n",
       "      <th>Office Location Id</th>\n",
       "      <th>Indians</th>\n",
       "      <th>Foreigners</th>\n",
       "      <th>Indian_Male</th>\n",
       "      <th>Indian_Female</th>\n",
       "      <th>Foreigners_Male</th>\n",
       "      <th>Foreigners_Female</th>\n",
       "      <th>Total Population</th>\n",
       "      <th>other</th>\n",
       "    </tr>\n",
       "  </thead>\n",
       "  <tbody>\n",
       "    <tr>\n",
       "      <th>0</th>\n",
       "      <td>Region 31</td>\n",
       "      <td>1</td>\n",
       "      <td>643596</td>\n",
       "      <td>2883782</td>\n",
       "      <td>440445</td>\n",
       "      <td>203151</td>\n",
       "      <td>2763718</td>\n",
       "      <td>72515</td>\n",
       "      <td>3527378</td>\n",
       "      <td>47549</td>\n",
       "    </tr>\n",
       "    <tr>\n",
       "      <th>1</th>\n",
       "      <td>Region 17</td>\n",
       "      <td>9</td>\n",
       "      <td>319933</td>\n",
       "      <td>1501899</td>\n",
       "      <td>213477</td>\n",
       "      <td>106456</td>\n",
       "      <td>1449303</td>\n",
       "      <td>27671</td>\n",
       "      <td>1821832</td>\n",
       "      <td>24925</td>\n",
       "    </tr>\n",
       "    <tr>\n",
       "      <th>2</th>\n",
       "      <td>Region 12</td>\n",
       "      <td>4</td>\n",
       "      <td>194379</td>\n",
       "      <td>650744</td>\n",
       "      <td>161803</td>\n",
       "      <td>32576</td>\n",
       "      <td>631660</td>\n",
       "      <td>10652</td>\n",
       "      <td>845123</td>\n",
       "      <td>8432</td>\n",
       "    </tr>\n",
       "    <tr>\n",
       "      <th>3</th>\n",
       "      <td>Region 22</td>\n",
       "      <td>15</td>\n",
       "      <td>107360</td>\n",
       "      <td>470708</td>\n",
       "      <td>85343</td>\n",
       "      <td>22017</td>\n",
       "      <td>450267</td>\n",
       "      <td>6389</td>\n",
       "      <td>578068</td>\n",
       "      <td>14052</td>\n",
       "    </tr>\n",
       "    <tr>\n",
       "      <th>4</th>\n",
       "      <td>Region 23</td>\n",
       "      <td>13</td>\n",
       "      <td>55351</td>\n",
       "      <td>329980</td>\n",
       "      <td>31796</td>\n",
       "      <td>23555</td>\n",
       "      <td>325105</td>\n",
       "      <td>3684</td>\n",
       "      <td>385331</td>\n",
       "      <td>1191</td>\n",
       "    </tr>\n",
       "  </tbody>\n",
       "</table>\n",
       "</div>"
      ],
      "text/plain": [
       "      Region  Office Location Id  Indians  Foreigners  Indian_Male  \\\n",
       "0  Region 31                   1   643596     2883782       440445   \n",
       "1  Region 17                   9   319933     1501899       213477   \n",
       "2  Region 12                   4   194379      650744       161803   \n",
       "3  Region 22                  15   107360      470708        85343   \n",
       "4  Region 23                  13    55351      329980        31796   \n",
       "\n",
       "   Indian_Female  Foreigners_Male  Foreigners_Female  Total Population  other  \n",
       "0         203151          2763718              72515           3527378  47549  \n",
       "1         106456          1449303              27671           1821832  24925  \n",
       "2          32576           631660              10652            845123   8432  \n",
       "3          22017           450267               6389            578068  14052  \n",
       "4          23555           325105               3684            385331   1191  "
      ]
     },
     "execution_count": 12,
     "metadata": {},
     "output_type": "execute_result"
    }
   ],
   "source": [
    "MF_sum = data['Indian_Male'] + data['Indian_Female'] + data[\"Foreigners_Male\"] + data['Foreigners_Female']\n",
    "data['other'] = data['Total Population'] - MF_sum\n",
    "data.head()"
   ]
  },
  {
   "cell_type": "code",
   "execution_count": 13,
   "id": "e8731cb6",
   "metadata": {},
   "outputs": [
    {
     "data": {
      "text/plain": [
       "(38, 38)"
      ]
     },
     "execution_count": 13,
     "metadata": {},
     "output_type": "execute_result"
    }
   ],
   "source": [
    "data['Region'].nunique(),data['Office Location Id'].nunique()"
   ]
  },
  {
   "cell_type": "code",
   "execution_count": 14,
   "id": "e11ef0e3",
   "metadata": {},
   "outputs": [
    {
     "data": {
      "text/html": [
       "<div>\n",
       "<style scoped>\n",
       "    .dataframe tbody tr th:only-of-type {\n",
       "        vertical-align: middle;\n",
       "    }\n",
       "\n",
       "    .dataframe tbody tr th {\n",
       "        vertical-align: top;\n",
       "    }\n",
       "\n",
       "    .dataframe thead th {\n",
       "        text-align: right;\n",
       "    }\n",
       "</style>\n",
       "<table border=\"1\" class=\"dataframe\">\n",
       "  <thead>\n",
       "    <tr style=\"text-align: right;\">\n",
       "      <th></th>\n",
       "      <th>Indians</th>\n",
       "      <th>Foreigners</th>\n",
       "      <th>Indian_Male</th>\n",
       "      <th>Indian_Female</th>\n",
       "      <th>Foreigners_Male</th>\n",
       "      <th>Foreigners_Female</th>\n",
       "      <th>other</th>\n",
       "    </tr>\n",
       "  </thead>\n",
       "  <tbody>\n",
       "    <tr>\n",
       "      <th>0</th>\n",
       "      <td>643596</td>\n",
       "      <td>2883782</td>\n",
       "      <td>440445</td>\n",
       "      <td>203151</td>\n",
       "      <td>2763718</td>\n",
       "      <td>72515</td>\n",
       "      <td>47549</td>\n",
       "    </tr>\n",
       "    <tr>\n",
       "      <th>1</th>\n",
       "      <td>319933</td>\n",
       "      <td>1501899</td>\n",
       "      <td>213477</td>\n",
       "      <td>106456</td>\n",
       "      <td>1449303</td>\n",
       "      <td>27671</td>\n",
       "      <td>24925</td>\n",
       "    </tr>\n",
       "    <tr>\n",
       "      <th>2</th>\n",
       "      <td>194379</td>\n",
       "      <td>650744</td>\n",
       "      <td>161803</td>\n",
       "      <td>32576</td>\n",
       "      <td>631660</td>\n",
       "      <td>10652</td>\n",
       "      <td>8432</td>\n",
       "    </tr>\n",
       "    <tr>\n",
       "      <th>3</th>\n",
       "      <td>107360</td>\n",
       "      <td>470708</td>\n",
       "      <td>85343</td>\n",
       "      <td>22017</td>\n",
       "      <td>450267</td>\n",
       "      <td>6389</td>\n",
       "      <td>14052</td>\n",
       "    </tr>\n",
       "    <tr>\n",
       "      <th>4</th>\n",
       "      <td>55351</td>\n",
       "      <td>329980</td>\n",
       "      <td>31796</td>\n",
       "      <td>23555</td>\n",
       "      <td>325105</td>\n",
       "      <td>3684</td>\n",
       "      <td>1191</td>\n",
       "    </tr>\n",
       "  </tbody>\n",
       "</table>\n",
       "</div>"
      ],
      "text/plain": [
       "   Indians  Foreigners  Indian_Male  Indian_Female  Foreigners_Male  \\\n",
       "0   643596     2883782       440445         203151          2763718   \n",
       "1   319933     1501899       213477         106456          1449303   \n",
       "2   194379      650744       161803          32576           631660   \n",
       "3   107360      470708        85343          22017           450267   \n",
       "4    55351      329980        31796          23555           325105   \n",
       "\n",
       "   Foreigners_Female  other  \n",
       "0              72515  47549  \n",
       "1              27671  24925  \n",
       "2              10652   8432  \n",
       "3               6389  14052  \n",
       "4               3684   1191  "
      ]
     },
     "execution_count": 14,
     "metadata": {},
     "output_type": "execute_result"
    }
   ],
   "source": [
    "data1 = data.drop(columns = ['Region',\"Office Location Id\", 'Total Population'])\n",
    "data1.head()"
   ]
  },
  {
   "cell_type": "code",
   "execution_count": 15,
   "id": "a224ee46",
   "metadata": {},
   "outputs": [
    {
     "data": {
      "text/html": [
       "<div>\n",
       "<style scoped>\n",
       "    .dataframe tbody tr th:only-of-type {\n",
       "        vertical-align: middle;\n",
       "    }\n",
       "\n",
       "    .dataframe tbody tr th {\n",
       "        vertical-align: top;\n",
       "    }\n",
       "\n",
       "    .dataframe thead th {\n",
       "        text-align: right;\n",
       "    }\n",
       "</style>\n",
       "<table border=\"1\" class=\"dataframe\">\n",
       "  <thead>\n",
       "    <tr style=\"text-align: right;\">\n",
       "      <th></th>\n",
       "      <th>Indians</th>\n",
       "      <th>Foreigners</th>\n",
       "      <th>Indian_Male</th>\n",
       "      <th>Indian_Female</th>\n",
       "      <th>Foreigners_Male</th>\n",
       "      <th>Foreigners_Female</th>\n",
       "      <th>other</th>\n",
       "    </tr>\n",
       "  </thead>\n",
       "  <tbody>\n",
       "    <tr>\n",
       "      <th>0</th>\n",
       "      <td>0.157911</td>\n",
       "      <td>0.707555</td>\n",
       "      <td>0.108066</td>\n",
       "      <td>0.049844</td>\n",
       "      <td>0.678096</td>\n",
       "      <td>0.017792</td>\n",
       "      <td>0.011666</td>\n",
       "    </tr>\n",
       "    <tr>\n",
       "      <th>1</th>\n",
       "      <td>0.150537</td>\n",
       "      <td>0.706682</td>\n",
       "      <td>0.100446</td>\n",
       "      <td>0.050090</td>\n",
       "      <td>0.681934</td>\n",
       "      <td>0.013020</td>\n",
       "      <td>0.011728</td>\n",
       "    </tr>\n",
       "    <tr>\n",
       "      <th>2</th>\n",
       "      <td>0.206311</td>\n",
       "      <td>0.690691</td>\n",
       "      <td>0.171736</td>\n",
       "      <td>0.034576</td>\n",
       "      <td>0.670436</td>\n",
       "      <td>0.011306</td>\n",
       "      <td>0.008950</td>\n",
       "    </tr>\n",
       "    <tr>\n",
       "      <th>3</th>\n",
       "      <td>0.161150</td>\n",
       "      <td>0.706543</td>\n",
       "      <td>0.128102</td>\n",
       "      <td>0.033048</td>\n",
       "      <td>0.675861</td>\n",
       "      <td>0.009590</td>\n",
       "      <td>0.021092</td>\n",
       "    </tr>\n",
       "    <tr>\n",
       "      <th>4</th>\n",
       "      <td>0.118217</td>\n",
       "      <td>0.704763</td>\n",
       "      <td>0.067909</td>\n",
       "      <td>0.050308</td>\n",
       "      <td>0.694351</td>\n",
       "      <td>0.007868</td>\n",
       "      <td>0.002544</td>\n",
       "    </tr>\n",
       "  </tbody>\n",
       "</table>\n",
       "</div>"
      ],
      "text/plain": [
       "    Indians  Foreigners  Indian_Male  Indian_Female  Foreigners_Male  \\\n",
       "0  0.157911    0.707555     0.108066       0.049844         0.678096   \n",
       "1  0.150537    0.706682     0.100446       0.050090         0.681934   \n",
       "2  0.206311    0.690691     0.171736       0.034576         0.670436   \n",
       "3  0.161150    0.706543     0.128102       0.033048         0.675861   \n",
       "4  0.118217    0.704763     0.067909       0.050308         0.694351   \n",
       "\n",
       "   Foreigners_Female     other  \n",
       "0           0.017792  0.011666  \n",
       "1           0.013020  0.011728  \n",
       "2           0.011306  0.008950  \n",
       "3           0.009590  0.021092  \n",
       "4           0.007868  0.002544  "
      ]
     },
     "execution_count": 15,
     "metadata": {},
     "output_type": "execute_result"
    }
   ],
   "source": [
    "from sklearn.preprocessing import Normalizer\n",
    "norm = Normalizer()\n",
    "columns = data1.columns\n",
    "data1 = norm.fit_transform(data1)\n",
    "\n",
    "data1 = pd.DataFrame(data1, columns = columns)\n",
    "data1.head()"
   ]
  },
  {
   "cell_type": "code",
   "execution_count": 16,
   "id": "dda067d3",
   "metadata": {},
   "outputs": [
    {
     "name": "stderr",
     "output_type": "stream",
     "text": [
      "C:\\Users\\hp\\anaconda3\\lib\\site-packages\\sklearn\\cluster\\_kmeans.py:870: FutureWarning: The default value of `n_init` will change from 10 to 'auto' in 1.4. Set the value of `n_init` explicitly to suppress the warning\n",
      "  warnings.warn(\n",
      "C:\\Users\\hp\\anaconda3\\lib\\site-packages\\sklearn\\cluster\\_kmeans.py:1382: UserWarning: KMeans is known to have a memory leak on Windows with MKL, when there are less chunks than available threads. You can avoid it by setting the environment variable OMP_NUM_THREADS=1.\n",
      "  warnings.warn(\n"
     ]
    }
   ],
   "source": [
    "from sklearn.cluster import KMeans\n",
    "kmeans = KMeans(n_clusters=2)\n",
    "kmeans.fit(data1)\n",
    "pred=kmeans.predict(data1)"
   ]
  },
  {
   "cell_type": "code",
   "execution_count": 17,
   "id": "a128c810",
   "metadata": {},
   "outputs": [
    {
     "data": {
      "text/plain": [
       "(array([0, 0, 0, 0, 1, 0, 1, 1, 1, 1, 0, 1, 1, 1, 1, 0, 1, 1, 1, 1, 1, 1,\n",
       "        1, 1, 1, 1, 1, 1, 1, 1, 1, 1, 1, 1, 1, 0, 1, 1]),\n",
       " 38)"
      ]
     },
     "execution_count": 17,
     "metadata": {},
     "output_type": "execute_result"
    }
   ],
   "source": [
    "pred, len(pred)"
   ]
  },
  {
   "cell_type": "code",
   "execution_count": 18,
   "id": "9b3242fd",
   "metadata": {},
   "outputs": [
    {
     "data": {
      "text/plain": [
       "1    30\n",
       "0     8\n",
       "dtype: int64"
      ]
     },
     "execution_count": 18,
     "metadata": {},
     "output_type": "execute_result"
    }
   ],
   "source": [
    "pd.Series(pred).value_counts()"
   ]
  },
  {
   "cell_type": "code",
   "execution_count": 19,
   "id": "efd5c3ff",
   "metadata": {},
   "outputs": [
    {
     "data": {
      "text/plain": [
       "0.028113285898827115"
      ]
     },
     "execution_count": 19,
     "metadata": {},
     "output_type": "execute_result"
    }
   ],
   "source": [
    "kmeans.inertia_"
   ]
  },
  {
   "cell_type": "code",
   "execution_count": 20,
   "id": "4a03a683",
   "metadata": {},
   "outputs": [
    {
     "data": {
      "text/plain": [
       "-0.02811328589882711"
      ]
     },
     "execution_count": 20,
     "metadata": {},
     "output_type": "execute_result"
    }
   ],
   "source": [
    "kmeans.score(data1)"
   ]
  },
  {
   "cell_type": "code",
   "execution_count": 22,
   "id": "5cb5cc04",
   "metadata": {},
   "outputs": [
    {
     "name": "stderr",
     "output_type": "stream",
     "text": [
      "C:\\Users\\hp\\anaconda3\\lib\\site-packages\\sklearn\\cluster\\_kmeans.py:870: FutureWarning: The default value of `n_init` will change from 10 to 'auto' in 1.4. Set the value of `n_init` explicitly to suppress the warning\n",
      "  warnings.warn(\n",
      "C:\\Users\\hp\\anaconda3\\lib\\site-packages\\sklearn\\cluster\\_kmeans.py:1382: UserWarning: KMeans is known to have a memory leak on Windows with MKL, when there are less chunks than available threads. You can avoid it by setting the environment variable OMP_NUM_THREADS=1.\n",
      "  warnings.warn(\n",
      "C:\\Users\\hp\\anaconda3\\lib\\site-packages\\sklearn\\cluster\\_kmeans.py:870: FutureWarning: The default value of `n_init` will change from 10 to 'auto' in 1.4. Set the value of `n_init` explicitly to suppress the warning\n",
      "  warnings.warn(\n",
      "C:\\Users\\hp\\anaconda3\\lib\\site-packages\\sklearn\\cluster\\_kmeans.py:1382: UserWarning: KMeans is known to have a memory leak on Windows with MKL, when there are less chunks than available threads. You can avoid it by setting the environment variable OMP_NUM_THREADS=1.\n",
      "  warnings.warn(\n",
      "C:\\Users\\hp\\anaconda3\\lib\\site-packages\\sklearn\\cluster\\_kmeans.py:870: FutureWarning: The default value of `n_init` will change from 10 to 'auto' in 1.4. Set the value of `n_init` explicitly to suppress the warning\n",
      "  warnings.warn(\n",
      "C:\\Users\\hp\\anaconda3\\lib\\site-packages\\sklearn\\cluster\\_kmeans.py:1382: UserWarning: KMeans is known to have a memory leak on Windows with MKL, when there are less chunks than available threads. You can avoid it by setting the environment variable OMP_NUM_THREADS=1.\n",
      "  warnings.warn(\n",
      "C:\\Users\\hp\\anaconda3\\lib\\site-packages\\sklearn\\cluster\\_kmeans.py:870: FutureWarning: The default value of `n_init` will change from 10 to 'auto' in 1.4. Set the value of `n_init` explicitly to suppress the warning\n",
      "  warnings.warn(\n",
      "C:\\Users\\hp\\anaconda3\\lib\\site-packages\\sklearn\\cluster\\_kmeans.py:1382: UserWarning: KMeans is known to have a memory leak on Windows with MKL, when there are less chunks than available threads. You can avoid it by setting the environment variable OMP_NUM_THREADS=1.\n",
      "  warnings.warn(\n",
      "C:\\Users\\hp\\anaconda3\\lib\\site-packages\\sklearn\\cluster\\_kmeans.py:870: FutureWarning: The default value of `n_init` will change from 10 to 'auto' in 1.4. Set the value of `n_init` explicitly to suppress the warning\n",
      "  warnings.warn(\n",
      "C:\\Users\\hp\\anaconda3\\lib\\site-packages\\sklearn\\cluster\\_kmeans.py:1382: UserWarning: KMeans is known to have a memory leak on Windows with MKL, when there are less chunks than available threads. You can avoid it by setting the environment variable OMP_NUM_THREADS=1.\n",
      "  warnings.warn(\n",
      "C:\\Users\\hp\\anaconda3\\lib\\site-packages\\sklearn\\cluster\\_kmeans.py:870: FutureWarning: The default value of `n_init` will change from 10 to 'auto' in 1.4. Set the value of `n_init` explicitly to suppress the warning\n",
      "  warnings.warn(\n",
      "C:\\Users\\hp\\anaconda3\\lib\\site-packages\\sklearn\\cluster\\_kmeans.py:1382: UserWarning: KMeans is known to have a memory leak on Windows with MKL, when there are less chunks than available threads. You can avoid it by setting the environment variable OMP_NUM_THREADS=1.\n",
      "  warnings.warn(\n",
      "C:\\Users\\hp\\anaconda3\\lib\\site-packages\\sklearn\\cluster\\_kmeans.py:870: FutureWarning: The default value of `n_init` will change from 10 to 'auto' in 1.4. Set the value of `n_init` explicitly to suppress the warning\n",
      "  warnings.warn(\n",
      "C:\\Users\\hp\\anaconda3\\lib\\site-packages\\sklearn\\cluster\\_kmeans.py:1382: UserWarning: KMeans is known to have a memory leak on Windows with MKL, when there are less chunks than available threads. You can avoid it by setting the environment variable OMP_NUM_THREADS=1.\n",
      "  warnings.warn(\n",
      "C:\\Users\\hp\\anaconda3\\lib\\site-packages\\sklearn\\cluster\\_kmeans.py:870: FutureWarning: The default value of `n_init` will change from 10 to 'auto' in 1.4. Set the value of `n_init` explicitly to suppress the warning\n",
      "  warnings.warn(\n",
      "C:\\Users\\hp\\anaconda3\\lib\\site-packages\\sklearn\\cluster\\_kmeans.py:1382: UserWarning: KMeans is known to have a memory leak on Windows with MKL, when there are less chunks than available threads. You can avoid it by setting the environment variable OMP_NUM_THREADS=1.\n",
      "  warnings.warn(\n",
      "C:\\Users\\hp\\anaconda3\\lib\\site-packages\\sklearn\\cluster\\_kmeans.py:870: FutureWarning: The default value of `n_init` will change from 10 to 'auto' in 1.4. Set the value of `n_init` explicitly to suppress the warning\n",
      "  warnings.warn(\n",
      "C:\\Users\\hp\\anaconda3\\lib\\site-packages\\sklearn\\cluster\\_kmeans.py:1382: UserWarning: KMeans is known to have a memory leak on Windows with MKL, when there are less chunks than available threads. You can avoid it by setting the environment variable OMP_NUM_THREADS=1.\n",
      "  warnings.warn(\n"
     ]
    }
   ],
   "source": [
    "SSE = []\n",
    "for cluster in range(1,10):\n",
    "    kmeans = KMeans(n_clusters = cluster)\n",
    "    kmeans.fit(data1)\n",
    "    SSE.append(kmeans.inertia_)"
   ]
  },
  {
   "cell_type": "code",
   "execution_count": 23,
   "id": "d607e74b",
   "metadata": {},
   "outputs": [],
   "source": [
    "frame = pd.DataFrame({'Cluster':range(1,10), 'SSE':SSE})"
   ]
  },
  {
   "cell_type": "code",
   "execution_count": 24,
   "id": "13ca8e09",
   "metadata": {},
   "outputs": [
    {
     "data": {
      "text/plain": [
       "Text(0, 0.5, 'Inertia')"
      ]
     },
     "execution_count": 24,
     "metadata": {},
     "output_type": "execute_result"
    },
    {
     "data": {
      "image/png": "[encoded data removed]",
      "text/plain": [
       "<Figure size 864x432 with 1 Axes>"
      ]
     },
     "metadata": {
      "needs_background": "light"
     },
     "output_type": "display_data"
    }
   ],
   "source": [
    "plt.figure(figsize=(12,6))\n",
    "plt.plot(frame['Cluster'], frame['SSE'], marker='o')\n",
    "plt.xlabel('Number of clusters')\n",
    "plt.ylabel('Inertia')"
   ]
  },
  {
   "cell_type": "code",
   "execution_count": 25,
   "id": "80038468",
   "metadata": {},
   "outputs": [
    {
     "name": "stderr",
     "output_type": "stream",
     "text": [
      "C:\\Users\\hp\\anaconda3\\lib\\site-packages\\sklearn\\cluster\\_kmeans.py:870: FutureWarning: The default value of `n_init` will change from 10 to 'auto' in 1.4. Set the value of `n_init` explicitly to suppress the warning\n",
      "  warnings.warn(\n",
      "C:\\Users\\hp\\anaconda3\\lib\\site-packages\\sklearn\\cluster\\_kmeans.py:1382: UserWarning: KMeans is known to have a memory leak on Windows with MKL, when there are less chunks than available threads. You can avoid it by setting the environment variable OMP_NUM_THREADS=1.\n",
      "  warnings.warn(\n"
     ]
    }
   ],
   "source": [
    "kmeans = KMeans(n_clusters=3)\n",
    "kmeans.fit(data1)\n",
    "pred=kmeans.predict(data1)"
   ]
  },
  {
   "cell_type": "code",
   "execution_count": 26,
   "id": "ae8c3c15",
   "metadata": {},
   "outputs": [],
   "source": [
    "data1['cluster'] = pred"
   ]
  },
  {
   "cell_type": "code",
   "execution_count": 27,
   "id": "4af470bb",
   "metadata": {},
   "outputs": [],
   "source": [
    "def seg(str_x, str_y, clusters):\n",
    "  x = []\n",
    "  y = []\n",
    "\n",
    "  for i in range(clusters):\n",
    "    x.append(data1[str_x][data1['cluster']==i])\n",
    "    y.append(data1[str_y][data1['cluster']==i])\n",
    "  \n",
    "  return x,y\n",
    "\n",
    "def plot_clusters(str_x, str_y, clusters):\n",
    "  plt.figure(figsize = (5,5), dpi = 120)\n",
    "  \n",
    "  x,y = seg(str_x, str_y, clusters)\n",
    "\n",
    "  for i in range(clusters):\n",
    "    plt.scatter(x[i], y[i], label = 'cluster{}'.format(i))\n",
    "  \n",
    "  plt.xlabel(str_x)\n",
    "  plt.ylabel(str_y)\n",
    "  plt.title(str(str_x+\" Vs \"+str_y))\n",
    "  plt.legend()"
   ]
  },
  {
   "cell_type": "code",
   "execution_count": 28,
   "id": "b0d9a982",
   "metadata": {},
   "outputs": [
    {
     "data": {
      "image/png": "[encoded data removed]",
      "text/plain": [
       "<Figure size 600x600 with 1 Axes>"
      ]
     },
     "metadata": {
      "needs_background": "light"
     },
     "output_type": "display_data"
    }
   ],
   "source": [
    "plot_clusters('Indians', 'Foreigners',3)"
   ]
  },
  {
   "cell_type": "code",
   "execution_count": 29,
   "id": "26c77b60",
   "metadata": {},
   "outputs": [
    {
     "data": {
      "image/png": "[encoded data removed]",
      "text/plain": [
       "<Figure size 600x600 with 1 Axes>"
      ]
     },
     "metadata": {
      "needs_background": "light"
     },
     "output_type": "display_data"
    }
   ],
   "source": [
    "plot_clusters('Indian_Male', 'Foreigners_Male',3)"
   ]
  },
  {
   "cell_type": "code",
   "execution_count": 30,
   "id": "77bfd491",
   "metadata": {},
   "outputs": [
    {
     "data": {
      "image/png": "[encoded data removed]",
      "text/plain": [
       "<Figure size 600x600 with 1 Axes>"
      ]
     },
     "metadata": {
      "needs_background": "light"
     },
     "output_type": "display_data"
    }
   ],
   "source": [
    "plot_clusters('Indian_Female', 'Foreigners_Female',3)"
   ]
  },
  {
   "cell_type": "code",
   "execution_count": 31,
   "id": "be96d536",
   "metadata": {},
   "outputs": [
    {
     "data": {
      "image/png": "[encoded data removed]",
      "text/plain": [
       "<Figure size 600x600 with 1 Axes>"
      ]
     },
     "metadata": {
      "needs_background": "light"
     },
     "output_type": "display_data"
    }
   ],
   "source": [
    "plot_clusters('other', 'Indians',3)"
   ]
  },
  {
   "cell_type": "code",
   "execution_count": null,
   "id": "ae812279",
   "metadata": {},
   "outputs": [],
   "source": []
  }
 ],
 "metadata": {
  "kernelspec": {
   "display_name": "Python 3 (ipykernel)",
   "language": "python",
   "name": "python3"
  },
  "language_info": {
   "codemirror_mode": {
    "name": "ipython",
    "version": 3
   },
   "file_extension": ".py",
   "mimetype": "text/x-python",
   "name": "python",
   "nbconvert_exporter": "python",
   "pygments_lexer": "ipython3",
   "version": "3.9.12"
  }
 },
 "nbformat": 4,
 "nbformat_minor": 5
}
